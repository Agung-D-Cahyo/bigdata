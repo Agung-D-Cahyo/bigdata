{
  "nbformat": 4,
  "nbformat_minor": 0,
  "metadata": {
    "colab": {
      "name": "Untitled3 (1).ipynb",
      "provenance": [],
      "collapsed_sections": [],
      "include_colab_link": true
    },
    "kernelspec": {
      "name": "python3",
      "display_name": "Python 3"
    }
  },
  "cells": [
    {
      "cell_type": "markdown",
      "metadata": {
        "id": "view-in-github",
        "colab_type": "text"
      },
      "source": [
        "<a href=\"https://colab.research.google.com/github/Agung-D-Cahyo/bigdata/blob/master/1800018162.ipynb\" target=\"_parent\"><img src=\"https://colab.research.google.com/assets/colab-badge.svg\" alt=\"Open In Colab\"/></a>"
      ]
    },
    {
      "cell_type": "markdown",
      "metadata": {
        "id": "Mg2N86FfT49L",
        "colab_type": "text"
      },
      "source": [
        "# <center>**Agung Dwi Cahyo**<br>\n",
        "# **<center>1800018162<br>**\n",
        "# **<center>D**\n",
        "\n",
        "\n",
        "\n",
        "\n",
        "\n",
        "\n",
        "\n",
        "\n"
      ]
    },
    {
      "cell_type": "code",
      "metadata": {
        "id": "8KiD7NAGmAwS",
        "colab_type": "code",
        "colab": {
          "base_uri": "https://localhost:8080/",
          "height": 201
        },
        "outputId": "a68cd583-d73f-416b-f1b2-6d8f91b8e346"
      },
      "source": [
        "! apt-get install openjdk-8-jdk-headless -qq > /dev/null\n",
        "! wget -q https://downloads.apache.org/spark/spark-2.4.6/spark-2.4.6-bin-hadoop2.7.tgz\n",
        "! tar xf spark-2.4.6-bin-hadoop2.7.tgz\n",
        "! pip install -q findspark\n",
        "! pip install pyspark_dist_explore"
      ],
      "execution_count": 95,
      "outputs": [
        {
          "output_type": "stream",
          "text": [
            "Requirement already satisfied: pyspark_dist_explore in /usr/local/lib/python3.6/dist-packages (0.1.8)\n",
            "Requirement already satisfied: numpy in /usr/local/lib/python3.6/dist-packages (from pyspark_dist_explore) (1.18.5)\n",
            "Requirement already satisfied: matplotlib in /usr/local/lib/python3.6/dist-packages (from pyspark_dist_explore) (3.2.2)\n",
            "Requirement already satisfied: scipy in /usr/local/lib/python3.6/dist-packages (from pyspark_dist_explore) (1.4.1)\n",
            "Requirement already satisfied: pandas in /usr/local/lib/python3.6/dist-packages (from pyspark_dist_explore) (1.0.5)\n",
            "Requirement already satisfied: kiwisolver>=1.0.1 in /usr/local/lib/python3.6/dist-packages (from matplotlib->pyspark_dist_explore) (1.2.0)\n",
            "Requirement already satisfied: python-dateutil>=2.1 in /usr/local/lib/python3.6/dist-packages (from matplotlib->pyspark_dist_explore) (2.8.1)\n",
            "Requirement already satisfied: cycler>=0.10 in /usr/local/lib/python3.6/dist-packages (from matplotlib->pyspark_dist_explore) (0.10.0)\n",
            "Requirement already satisfied: pyparsing!=2.0.4,!=2.1.2,!=2.1.6,>=2.0.1 in /usr/local/lib/python3.6/dist-packages (from matplotlib->pyspark_dist_explore) (2.4.7)\n",
            "Requirement already satisfied: pytz>=2017.2 in /usr/local/lib/python3.6/dist-packages (from pandas->pyspark_dist_explore) (2018.9)\n",
            "Requirement already satisfied: six>=1.5 in /usr/local/lib/python3.6/dist-packages (from python-dateutil>=2.1->matplotlib->pyspark_dist_explore) (1.12.0)\n"
          ],
          "name": "stdout"
        }
      ]
    },
    {
      "cell_type": "code",
      "metadata": {
        "id": "yEknA5kNmDh6",
        "colab_type": "code",
        "colab": {}
      },
      "source": [
        "import os\n",
        "os.environ[\"JAVA_HOME\"] = \"/usr/lib/jvm/java-8-openjdk-amd64\"\n",
        "os.environ[\"SPARK_HOME\"] = \"/content/spark-2.4.5-bin-hadoop2.7\""
      ],
      "execution_count": 96,
      "outputs": []
    },
    {
      "cell_type": "code",
      "metadata": {
        "id": "5_QO0uCJmWW2",
        "colab_type": "code",
        "colab": {}
      },
      "source": [
        "import findspark\n",
        "findspark.init(\"spark-2.4.6-bin-hadoop2.7\")# SPARK_HOME\n",
        "from pyspark.sql import SparkSession\n",
        "spark = SparkSession.builder.master(\"local[*]\").getOrCreate()\n",
        "from pyspark.sql.functions import col, avg\n",
        "from matplotlib import pyplot as plt\n",
        "from pyspark_dist_explore import Histogram, hist"
      ],
      "execution_count": 97,
      "outputs": []
    },
    {
      "cell_type": "code",
      "metadata": {
        "id": "fTUexbLambFP",
        "colab_type": "code",
        "colab": {}
      },
      "source": [
        "sc = spark.sparkContext\n",
        "spark = SparkSession(sc)"
      ],
      "execution_count": 98,
      "outputs": []
    },
    {
      "cell_type": "markdown",
      "metadata": {
        "id": "IHmzgFEhLzxz",
        "colab_type": "text"
      },
      "source": [
        "## **EDA**"
      ]
    },
    {
      "cell_type": "code",
      "metadata": {
        "id": "UpTTnkcXmelD",
        "colab_type": "code",
        "colab": {
          "base_uri": "https://localhost:8080/",
          "height": 168
        },
        "outputId": "8b73b01f-5b6b-46f3-aa6c-39be543fd900"
      },
      "source": [
        "data = spark.read.csv('Game_list_rating.csv', header=True, inferSchema=True)\n",
        "data.printSchema()"
      ],
      "execution_count": 99,
      "outputs": [
        {
          "output_type": "stream",
          "text": [
            "root\n",
            " |-- Game_Name: string (nullable = true)\n",
            " |-- game_released: timestamp (nullable = true)\n",
            " |-- game_rating: double (nullable = true)\n",
            " |-- game_platform: string (nullable = true)\n",
            " |-- game_genres: string (nullable = true)\n",
            " |-- game_stores: string (nullable = true)\n",
            " |-- game_tags_name: string (nullable = true)\n",
            "\n"
          ],
          "name": "stdout"
        }
      ]
    },
    {
      "cell_type": "code",
      "metadata": {
        "id": "ItZdPtLJm1f3",
        "colab_type": "code",
        "colab": {
          "base_uri": "https://localhost:8080/",
          "height": 33
        },
        "outputId": "e2e037fa-f4b8-41c3-fae5-b53cd3f35293"
      },
      "source": [
        "# total baris\n",
        "data.count()"
      ],
      "execution_count": 100,
      "outputs": [
        {
          "output_type": "execute_result",
          "data": {
            "text/plain": [
              "980"
            ]
          },
          "metadata": {
            "tags": []
          },
          "execution_count": 100
        }
      ]
    },
    {
      "cell_type": "code",
      "metadata": {
        "id": "FnEvRAFdm7bo",
        "colab_type": "code",
        "colab": {
          "base_uri": "https://localhost:8080/",
          "height": 453
        },
        "outputId": "52d3a3c8-580f-4fab-8d9f-523acbaa4a9b"
      },
      "source": [
        "data.show()"
      ],
      "execution_count": 101,
      "outputs": [
        {
          "output_type": "stream",
          "text": [
            "+--------------------+-------------------+-----------+--------------------+--------------------+--------------------+--------------------+\n",
            "|           Game_Name|      game_released|game_rating|       game_platform|         game_genres|         game_stores|      game_tags_name|\n",
            "+--------------------+-------------------+-----------+--------------------+--------------------+--------------------+--------------------+\n",
            "|  Grand Theft Auto V|2013-09-17 00:00:00|       4.47|['PC', 'PlayStati...|['Action', 'Shoot...|['PlayStation Sto...|['Full controller...|\n",
            "|            Portal 2|2011-04-19 00:00:00|       4.61|['PlayStation 3',...|['Shooter', 'Puzz...|['Xbox 360 Store'...|['Captions availa...|\n",
            "|The Witcher 3: Wi...|2015-05-18 00:00:00|       4.68|['PC', 'Xbox One'...|             ['RPG']|['GOG', 'Xbox Sto...|['Full controller...|\n",
            "|The Elder Scrolls...|2011-11-11 00:00:00|       4.41|['PC', 'PlayStati...|   ['Action', 'RPG']|['Xbox 360 Store'...|['Action RPG', 'P...|\n",
            "|       Left 4 Dead 2|2009-11-17 00:00:00|       4.11|  ['PC', 'Xbox 360']|['Action', 'Shoot...|['Xbox 360 Store'...|['Captions availa...|\n",
            "|       Borderlands 2|2012-09-18 00:00:00|       4.05|['PC', 'PlayStati...|['Action', 'Shoot...|['PlayStation Sto...|['Full controller...|\n",
            "|   BioShock Infinite|2013-03-26 00:00:00|       4.37|['PC', 'Linux', '...|['Action', 'Shoot...|['App Store', 'Xb...|['Full controller...|\n",
            "|              Portal|2007-10-09 00:00:00|       4.51|['macOS', 'Androi...|['Action', 'Adven...|['Google Play', '...|['Captions availa...|\n",
            "|     Life is Strange|2015-01-29 00:00:00|       4.11|['iOS', 'Android'...|       ['Adventure']|['App Store', 'Xb...|['Full controller...|\n",
            "|Counter-Strike: G...|2012-08-21 00:00:00|       3.59|['PC', 'Xbox 360'...|['Action', 'Shoot...|['Xbox 360 Store'...|['Full controller...|\n",
            "|  Tomb Raider (2013)|2013-03-05 00:00:00|       4.07|['PC', 'PlayStati...|['Action', 'Adven...|['App Store', 'Go...|['Full controller...|\n",
            "|               Limbo|2010-07-21 00:00:00|       4.15|['PC', 'iOS', 'Li...|['Action', 'Adven...|['Epic Games', 'G...|['2D', 'Full cont...|\n",
            "|         Half-Life 2|2004-11-16 00:00:00|       4.49|['Android', 'Linu...|['Action', 'Shoot...|['Google Play', '...|['Captions availa...|\n",
            "|            BioShock|2007-08-21 00:00:00|       4.38|['PC', 'PlayStati...|['Action', 'Shoot...|['App Store', 'Pl...|['Action RPG', 'A...|\n",
            "|     Team Fortress 2|2007-10-10 00:00:00|       3.68|['PC', 'Linux', '...|['Action', 'Shoot...|           ['Steam']|['Cross-Platform ...|\n",
            "|            PAYDAY 2|2013-08-13 00:00:00|        3.5|['PC', 'Linux', '...|['Action', 'Shoot...|['Xbox 360 Store'...|['Full controller...|\n",
            "|           Fallout 4|2015-11-09 00:00:00|       3.74|['PC', 'Xbox One'...|   ['Action', 'RPG']|['Steam', 'Xbox S...|['Full controller...|\n",
            "|         DOOM (2016)|2016-05-13 00:00:00|       4.39|['PC', 'Nintendo ...|['Action', 'Shoot...|['Steam', 'Xbox S...|['Partial Control...|\n",
            "| Grand Theft Auto IV|2008-04-29 00:00:00|       4.23|['PC', 'PlayStati...|['Action', 'Adven...|['PlayStation Sto...|['Partial Control...|\n",
            "|Red Dead Redempti...|2018-10-26 00:00:00|       4.55|['PC', 'Xbox One'...|['Action', 'Adven...|['Steam', 'Epic G...|['In-App Purchase...|\n",
            "+--------------------+-------------------+-----------+--------------------+--------------------+--------------------+--------------------+\n",
            "only showing top 20 rows\n",
            "\n"
          ],
          "name": "stdout"
        }
      ]
    },
    {
      "cell_type": "code",
      "metadata": {
        "id": "a9ht3eqDm-Qy",
        "colab_type": "code",
        "colab": {
          "base_uri": "https://localhost:8080/",
          "height": 184
        },
        "outputId": "ccbbc48a-7df6-4c8c-aa4b-7e3a8932191e"
      },
      "source": [
        "data.describe().show()"
      ],
      "execution_count": 102,
      "outputs": [
        {
          "output_type": "stream",
          "text": [
            "+-------+-------------+------------------+--------------------+--------------------+--------------------+--------------+\n",
            "|summary|    Game_Name|       game_rating|       game_platform|         game_genres|         game_stores|game_tags_name|\n",
            "+-------+-------------+------------------+--------------------+--------------------+--------------------+--------------+\n",
            "|  count|          980|               980|                 980|                 980|                 980|           980|\n",
            "|   mean|         null| 3.659816326530613|                null|                null|                null|          null|\n",
            "| stddev|         null|0.5550258503203033|                null|                null|                null|          null|\n",
            "|    min|7 Days to Die|              1.74|['Android', 'Linu...|['Action', 'Adven...|['App Store', 'Ep...|  \"[\"\"1990's\"\"|\n",
            "|    max|     inFamous|              4.69|['macOS', 'iOS', ...|                  []|                  []|            []|\n",
            "+-------+-------------+------------------+--------------------+--------------------+--------------------+--------------+\n",
            "\n"
          ],
          "name": "stdout"
        }
      ]
    },
    {
      "cell_type": "code",
      "metadata": {
        "id": "26ZMvwV9QyGV",
        "colab_type": "code",
        "colab": {
          "base_uri": "https://localhost:8080/",
          "height": 320
        },
        "outputId": "857b7a0f-2bd8-495f-a4ad-7b2f34dc60cc"
      },
      "source": [
        "rating = data.select('game_rating')\n",
        "\n",
        "fig, axes = plt.subplots()\n",
        "fig.set_size_inches(5, 5)\n",
        "hist(axes, rating, bins=20, color=\"red\")\n",
        "plt.show()"
      ],
      "execution_count": 146,
      "outputs": [
        {
          "output_type": "display_data",
          "data": {
            "image/png": "[encoded data removed]",
            "text/plain": [
              "<Figure size 360x360 with 1 Axes>"
            ]
          },
          "metadata": {
            "tags": [],
            "needs_background": "light"
          }
        }
      ]
    },
    {
      "cell_type": "code",
      "metadata": {
        "id": "9SK3D5xDnE8e",
        "colab_type": "code",
        "colab": {
          "base_uri": "https://localhost:8080/",
          "height": 117
        },
        "outputId": "f25caecc-befb-4beb-e137-04bde89475e3"
      },
      "source": [
        "table = ['Game_Name', 'game_rating', 'game_platform', 'game_genres', 'game_stores', 'game_tags_name']\n",
        "\n",
        "for kolom in table:\n",
        "  print('jumlah data yang bernilai null pada colom ', kolom, ' : ', data.where(col(kolom).isNull()).count())"
      ],
      "execution_count": 103,
      "outputs": [
        {
          "output_type": "stream",
          "text": [
            "jumlah data yang bernilai null pada colom  Game_Name  :  0\n",
            "jumlah data yang bernilai null pada colom  game_rating  :  0\n",
            "jumlah data yang bernilai null pada colom  game_platform  :  0\n",
            "jumlah data yang bernilai null pada colom  game_genres  :  0\n",
            "jumlah data yang bernilai null pada colom  game_stores  :  0\n",
            "jumlah data yang bernilai null pada colom  game_tags_name  :  0\n"
          ],
          "name": "stdout"
        }
      ]
    },
    {
      "cell_type": "markdown",
      "metadata": {
        "id": "G0SAmLZzL_cB",
        "colab_type": "text"
      },
      "source": [
        "## **PRE PROCESSING**"
      ]
    },
    {
      "cell_type": "code",
      "metadata": {
        "id": "WPaJjUBJnSlp",
        "colab_type": "code",
        "colab": {
          "base_uri": "https://localhost:8080/",
          "height": 285
        },
        "outputId": "9632fd94-3db6-4094-bc08-7718811cc883"
      },
      "source": [
        "# pre processing\n",
        "# seleksi data\n",
        "datagame = data.select('Game_Name', 'game_genres', 'game_rating')\n",
        "\n",
        "# kumpulkan genre\n",
        "genre = datagame.select('game_genres')\n",
        "\n",
        "# tampilkan 10 data teratas\n",
        "datagame.show(10)"
      ],
      "execution_count": 104,
      "outputs": [
        {
          "output_type": "stream",
          "text": [
            "+--------------------+--------------------+-----------+\n",
            "|           Game_Name|         game_genres|game_rating|\n",
            "+--------------------+--------------------+-----------+\n",
            "|  Grand Theft Auto V|['Action', 'Shoot...|       4.47|\n",
            "|            Portal 2|['Shooter', 'Puzz...|       4.61|\n",
            "|The Witcher 3: Wi...|             ['RPG']|       4.68|\n",
            "|The Elder Scrolls...|   ['Action', 'RPG']|       4.41|\n",
            "|       Left 4 Dead 2|['Action', 'Shoot...|       4.11|\n",
            "|       Borderlands 2|['Action', 'Shoot...|       4.05|\n",
            "|   BioShock Infinite|['Action', 'Shoot...|       4.37|\n",
            "|              Portal|['Action', 'Adven...|       4.51|\n",
            "|     Life is Strange|       ['Adventure']|       4.11|\n",
            "|Counter-Strike: G...|['Action', 'Shoot...|       3.59|\n",
            "+--------------------+--------------------+-----------+\n",
            "only showing top 10 rows\n",
            "\n"
          ],
          "name": "stdout"
        }
      ]
    },
    {
      "cell_type": "code",
      "metadata": {
        "id": "7szyfTwXo-ld",
        "colab_type": "code",
        "colab": {
          "base_uri": "https://localhost:8080/",
          "height": 453
        },
        "outputId": "a88aad4e-a55a-47fa-a016-e50d03173d82"
      },
      "source": [
        "genre.show()"
      ],
      "execution_count": 105,
      "outputs": [
        {
          "output_type": "stream",
          "text": [
            "+--------------------+\n",
            "|         game_genres|\n",
            "+--------------------+\n",
            "|['Action', 'Shoot...|\n",
            "|['Shooter', 'Puzz...|\n",
            "|             ['RPG']|\n",
            "|   ['Action', 'RPG']|\n",
            "|['Action', 'Shoot...|\n",
            "|['Action', 'Shoot...|\n",
            "|['Action', 'Shoot...|\n",
            "|['Action', 'Adven...|\n",
            "|       ['Adventure']|\n",
            "|['Action', 'Shoot...|\n",
            "|['Action', 'Adven...|\n",
            "|['Action', 'Adven...|\n",
            "|['Action', 'Shoot...|\n",
            "|['Action', 'Shoot...|\n",
            "|['Action', 'Shoot...|\n",
            "|['Action', 'Shoot...|\n",
            "|   ['Action', 'RPG']|\n",
            "|['Action', 'Shoot...|\n",
            "|['Action', 'Adven...|\n",
            "|['Action', 'Adven...|\n",
            "+--------------------+\n",
            "only showing top 20 rows\n",
            "\n"
          ],
          "name": "stdout"
        }
      ]
    },
    {
      "cell_type": "code",
      "metadata": {
        "id": "TatA7fUCpWlW",
        "colab_type": "code",
        "colab": {
          "base_uri": "https://localhost:8080/",
          "height": 453
        },
        "outputId": "54b6a2a7-2fca-435c-880c-587222de0626"
      },
      "source": [
        "genre.collect()[0][0]\n",
        "\n",
        "genre.show(truncate=False)\n"
      ],
      "execution_count": 106,
      "outputs": [
        {
          "output_type": "stream",
          "text": [
            "+--------------------------------------------------------+\n",
            "|game_genres                                             |\n",
            "+--------------------------------------------------------+\n",
            "|['Action', 'Shooter']                                   |\n",
            "|['Shooter', 'Puzzle']                                   |\n",
            "|['RPG']                                                 |\n",
            "|['Action', 'RPG']                                       |\n",
            "|['Action', 'Shooter']                                   |\n",
            "|['Action', 'Shooter', 'RPG']                            |\n",
            "|['Action', 'Shooter']                                   |\n",
            "|['Action', 'Adventure', 'Puzzle']                       |\n",
            "|['Adventure']                                           |\n",
            "|['Action', 'Shooter']                                   |\n",
            "|['Action', 'Adventure']                                 |\n",
            "|['Action', 'Adventure', 'Indie', 'Puzzle', 'Platformer']|\n",
            "|['Action', 'Shooter']                                   |\n",
            "|['Action', 'Shooter']                                   |\n",
            "|['Action', 'Shooter']                                   |\n",
            "|['Action', 'Shooter']                                   |\n",
            "|['Action', 'RPG']                                       |\n",
            "|['Action', 'Shooter']                                   |\n",
            "|['Action', 'Adventure']                                 |\n",
            "|['Action', 'Adventure', 'RPG']                          |\n",
            "+--------------------------------------------------------+\n",
            "only showing top 20 rows\n",
            "\n"
          ],
          "name": "stdout"
        }
      ]
    },
    {
      "cell_type": "code",
      "metadata": {
        "id": "wtd3fsosptRx",
        "colab_type": "code",
        "colab": {
          "base_uri": "https://localhost:8080/",
          "height": 453
        },
        "outputId": "50504517-1fd7-4502-dd0d-4bd77e42beef"
      },
      "source": [
        "data.show()"
      ],
      "execution_count": 108,
      "outputs": [
        {
          "output_type": "stream",
          "text": [
            "+--------------------+-------------------+-----------+--------------------+--------------------+--------------------+--------------------+\n",
            "|           Game_Name|      game_released|game_rating|       game_platform|         game_genres|         game_stores|      game_tags_name|\n",
            "+--------------------+-------------------+-----------+--------------------+--------------------+--------------------+--------------------+\n",
            "|  Grand Theft Auto V|2013-09-17 00:00:00|       4.47|['PC', 'PlayStati...|['Action', 'Shoot...|['PlayStation Sto...|['Full controller...|\n",
            "|            Portal 2|2011-04-19 00:00:00|       4.61|['PlayStation 3',...|['Shooter', 'Puzz...|['Xbox 360 Store'...|['Captions availa...|\n",
            "|The Witcher 3: Wi...|2015-05-18 00:00:00|       4.68|['PC', 'Xbox One'...|             ['RPG']|['GOG', 'Xbox Sto...|['Full controller...|\n",
            "|The Elder Scrolls...|2011-11-11 00:00:00|       4.41|['PC', 'PlayStati...|   ['Action', 'RPG']|['Xbox 360 Store'...|['Action RPG', 'P...|\n",
            "|       Left 4 Dead 2|2009-11-17 00:00:00|       4.11|  ['PC', 'Xbox 360']|['Action', 'Shoot...|['Xbox 360 Store'...|['Captions availa...|\n",
            "|       Borderlands 2|2012-09-18 00:00:00|       4.05|['PC', 'PlayStati...|['Action', 'Shoot...|['PlayStation Sto...|['Full controller...|\n",
            "|   BioShock Infinite|2013-03-26 00:00:00|       4.37|['PC', 'Linux', '...|['Action', 'Shoot...|['App Store', 'Xb...|['Full controller...|\n",
            "|              Portal|2007-10-09 00:00:00|       4.51|['macOS', 'Androi...|['Action', 'Adven...|['Google Play', '...|['Captions availa...|\n",
            "|     Life is Strange|2015-01-29 00:00:00|       4.11|['iOS', 'Android'...|       ['Adventure']|['App Store', 'Xb...|['Full controller...|\n",
            "|Counter-Strike: G...|2012-08-21 00:00:00|       3.59|['PC', 'Xbox 360'...|['Action', 'Shoot...|['Xbox 360 Store'...|['Full controller...|\n",
            "|  Tomb Raider (2013)|2013-03-05 00:00:00|       4.07|['PC', 'PlayStati...|['Action', 'Adven...|['App Store', 'Go...|['Full controller...|\n",
            "|               Limbo|2010-07-21 00:00:00|       4.15|['PC', 'iOS', 'Li...|['Action', 'Adven...|['Epic Games', 'G...|['2D', 'Full cont...|\n",
            "|         Half-Life 2|2004-11-16 00:00:00|       4.49|['Android', 'Linu...|['Action', 'Shoot...|['Google Play', '...|['Captions availa...|\n",
            "|            BioShock|2007-08-21 00:00:00|       4.38|['PC', 'PlayStati...|['Action', 'Shoot...|['App Store', 'Pl...|['Action RPG', 'A...|\n",
            "|     Team Fortress 2|2007-10-10 00:00:00|       3.68|['PC', 'Linux', '...|['Action', 'Shoot...|           ['Steam']|['Cross-Platform ...|\n",
            "|            PAYDAY 2|2013-08-13 00:00:00|        3.5|['PC', 'Linux', '...|['Action', 'Shoot...|['Xbox 360 Store'...|['Full controller...|\n",
            "|           Fallout 4|2015-11-09 00:00:00|       3.74|['PC', 'Xbox One'...|   ['Action', 'RPG']|['Steam', 'Xbox S...|['Full controller...|\n",
            "|         DOOM (2016)|2016-05-13 00:00:00|       4.39|['PC', 'Nintendo ...|['Action', 'Shoot...|['Steam', 'Xbox S...|['Partial Control...|\n",
            "| Grand Theft Auto IV|2008-04-29 00:00:00|       4.23|['PC', 'PlayStati...|['Action', 'Adven...|['PlayStation Sto...|['Partial Control...|\n",
            "|Red Dead Redempti...|2018-10-26 00:00:00|       4.55|['PC', 'Xbox One'...|['Action', 'Adven...|['Steam', 'Epic G...|['In-App Purchase...|\n",
            "+--------------------+-------------------+-----------+--------------------+--------------------+--------------------+--------------------+\n",
            "only showing top 20 rows\n",
            "\n"
          ],
          "name": "stdout"
        }
      ]
    },
    {
      "cell_type": "markdown",
      "metadata": {
        "id": "EHXX6wy-MLIz",
        "colab_type": "text"
      },
      "source": [
        "## **PEMROSESAN DATA**"
      ]
    },
    {
      "cell_type": "code",
      "metadata": {
        "id": "7rd9Bp3YrSrh",
        "colab_type": "code",
        "colab": {
          "base_uri": "https://localhost:8080/",
          "height": 453
        },
        "outputId": "e7b0e8e9-746f-4436-a15c-216cf69ec564"
      },
      "source": [
        "genre_action = data.filter(data.game_genres == \"['Action']\")\n",
        "genre_action.sort(genre_action.game_rating.desc()).show()"
      ],
      "execution_count": 125,
      "outputs": [
        {
          "output_type": "stream",
          "text": [
            "+--------------------+-------------------+-----------+--------------------+-----------+--------------------+--------------------+\n",
            "|           Game_Name|      game_released|game_rating|       game_platform|game_genres|         game_stores|      game_tags_name|\n",
            "+--------------------+-------------------+-----------+--------------------+-----------+--------------------+--------------------+\n",
            "|          God of War|2018-04-20 00:00:00|        4.6|   ['PlayStation 4']| ['Action']|['PlayStation Sto...|['Action-Adventur...|\n",
            "|Grand Theft Auto:...|2004-10-26 00:00:00|       4.46|['PC', 'iOS', 'ma...| ['Action']|['PlayStation Sto...|['Partial Control...|\n",
            "| Marvel's Spider-Man|2018-09-07 00:00:00|       4.45|   ['PlayStation 4']| ['Action']|['PlayStation Sto...|\"['Action-Adventu...|\n",
            "|Dark Souls: Remas...|2018-05-23 00:00:00|       4.38|['PC', 'PlayStati...| ['Action']|['Steam', 'Xbox S...|['Full controller...|\n",
            "|      God of War III|2010-03-16 00:00:00|       4.37|   ['PlayStation 3']| ['Action']|                  []|['Mythology', 'RP...|\n",
            "| Assassin's Creed II|2009-11-17 00:00:00|       4.35|['PlayStation 3',...| ['Action']|['Steam', 'Xbox 3...|['Assassin', 'Swo...|\n",
            "|           Bayonetta|2009-10-29 00:00:00|       4.29|['Xbox One', 'Wii...| ['Action']|['Xbox Store', 'X...|\"['Full controlle...|\n",
            "|Shadow of the Col...|2011-09-22 00:00:00|       4.29|   ['PlayStation 3']| ['Action']|['PlayStation Sto...|['Atmospheric', '...|\n",
            "|     Devil May Cry 5|2019-03-08 00:00:00|       4.25|['PC', 'Xbox One'...| ['Action']|['Steam', 'Xbox S...|['Full controller...|\n",
            "|    Alien: Isolation|2014-10-06 00:00:00|       4.21|['Nintendo Switch...| ['Action']|['Xbox Store', 'X...|['Full controller...|\n",
            "|Batman: Arkham Kn...|2015-06-23 00:00:00|       4.21|['PC', 'Xbox One'...| ['Action']|['Epic Games', 'P...|\"['Full controlle...|\n",
            "|Grand Theft Auto III|2001-10-22 00:00:00|       4.18|['PC', 'iOS', 'An...| ['Action']|['PlayStation Sto...|['Partial Control...|\n",
            "|Commandos: Behind...|1998-07-31 00:00:00|       4.18|              ['PC']| ['Action']|           ['Steam']|        \"[\"\"1990's\"\"|\n",
            "|Commandos 2: Men ...|2001-09-20 00:00:00|       4.17|['PC', 'Xbox', 'P...| ['Action']|           ['Steam']|['Classic', 'Co-o...|\n",
            "|METAL GEAR RISING...|2013-02-19 00:00:00|       4.15|['PC', 'Xbox 360'...| ['Action']|['Google Play', '...|\"['Full controlle...|\n",
            "|Crash Bandicoot N...|2017-06-30 00:00:00|       4.13|['PC', 'Nintendo ...| ['Action']|['Steam', 'Xbox S...|        \"[\"\"1990's\"\"|\n",
            "|Commandos: Beyond...|1999-03-30 00:00:00|       4.13|              ['PC']| ['Action']|           ['Steam']|        \"[\"\"1990's\"\"|\n",
            "|Assassin’s Creed ...|2013-10-29 00:00:00|       4.05|['PC', 'Nintendo ...| ['Action']|['Nintendo Store'...|['Action-Adventur...|\n",
            "|            Hitman 2|2018-11-13 00:00:00|       4.04|['PC', 'PlayStati...| ['Action']|['Steam', 'PlaySt...|['Assassin', 'Co-...|\n",
            "|Dishonored: Death...|2017-09-14 00:00:00|       4.04|['PC', 'PlayStati...| ['Action']|['GOG', 'PlayStat...|['Full controller...|\n",
            "+--------------------+-------------------+-----------+--------------------+-----------+--------------------+--------------------+\n",
            "only showing top 20 rows\n",
            "\n"
          ],
          "name": "stdout"
        }
      ]
    },
    {
      "cell_type": "code",
      "metadata": {
        "id": "XjYAHNYwF3p3",
        "colab_type": "code",
        "colab": {
          "base_uri": "https://localhost:8080/",
          "height": 453
        },
        "outputId": "81bb8ee2-8c67-4a48-ef90-35ef5d3efb70"
      },
      "source": [
        "genre_rpg = data.filter(data.game_genres == \"['RPG']\")\n",
        "genre_rpg.sort(genre_rpg.game_rating.desc()).show()"
      ],
      "execution_count": 126,
      "outputs": [
        {
          "output_type": "stream",
          "text": [
            "+--------------------+-------------------+-----------+--------------------+-----------+--------------------+--------------------+\n",
            "|           Game_Name|      game_released|game_rating|       game_platform|game_genres|         game_stores|      game_tags_name|\n",
            "+--------------------+-------------------+-----------+--------------------+-----------+--------------------+--------------------+\n",
            "|The Witcher 3: Wi...|2015-05-18 00:00:00|       4.68|['PC', 'Xbox One'...|    ['RPG']|['GOG', 'Xbox Sto...|['Full controller...|\n",
            "|The Elder Scrolls...|2002-05-02 00:00:00|       4.38|['PC', 'Xbox 360'...|    ['RPG']|['Xbox 360 Store'...|['Action RPG', 'S...|\n",
            "| Dragon Age: Origins|2009-11-03 00:00:00|       4.36|['PC', 'PlayStati...|    ['RPG']|['Xbox 360 Store'...|['Atmospheric', '...|\n",
            "|Fallout 2: A Post...|1998-09-30 00:00:00|       4.34|     ['PC', 'macOS']|    ['RPG']|    ['GOG', 'Steam']|['2D', 'Steam Clo...|\n",
            "|The Elder Scrolls...|2006-03-20 00:00:00|        4.3|['PC', 'PlayStati...|    ['RPG']|['PlayStation Sto...|['RPG', 'Story', ...|\n",
            "|The Elder Scrolls...|2009-06-16 00:00:00|       4.28|['PC', 'PlayStati...|    ['RPG']|    ['Steam', 'GOG']|['Action RPG', 'S...|\n",
            "|Fallout: A Post N...|1997-09-30 00:00:00|       4.25|['PC', 'macOS', '...|    ['RPG']|    ['GOG', 'Steam']|        \"[\"\"1990's\"\"|\n",
            "|The Witcher 2: As...|2012-04-16 00:00:00|       4.22|  ['PC', 'Xbox 360']|    ['RPG']|['Xbox Store', 'G...|['Partial Control...|\n",
            "|South Park: The S...|2014-03-04 00:00:00|       4.21|['PC', 'PlayStati...|    ['RPG']|['Nintendo Store'...|['2D', 'Full cont...|\n",
            "|   Fable Anniversary|2014-02-04 00:00:00|       4.16|  ['PC', 'Xbox 360']|    ['RPG']|['Xbox 360 Store'...|['Full controller...|\n",
            "|             Tyranny|2016-11-10 00:00:00|       4.12|['macOS', 'Linux'...|    ['RPG']|           ['Steam']|['Steam Achieveme...|\n",
            "|South Park: The F...|2017-03-31 00:00:00|       4.05|['PC', 'PlayStati...|    ['RPG']|['Nintendo Store'...|['2D', 'Full cont...|\n",
            "|    The Outer Worlds|2019-10-25 00:00:00|        4.0|['PC', 'PlayStati...|    ['RPG']|['Xbox Store', 'P...|['Full controller...|\n",
            "| Pillars of Eternity|2015-03-26 00:00:00|       3.94|['Linux', 'PC', '...|    ['RPG']|           ['Steam']|['Commentary avai...|\n",
            "|    FINAL FANTASY XV|2016-11-29 00:00:00|        3.9|['Xbox One', 'PC'...|    ['RPG']|['Xbox Store', 'S...|['Fantasy', 'RPG'...|\n",
            "|Dragon Age: Inqui...|2014-11-18 00:00:00|       3.78|['PlayStation 3',...|    ['RPG']|['Xbox Store', 'P...|['War', 'characte...|\n",
            "|Overlord: Raising...|2008-02-15 00:00:00|       3.64|['Linux', 'macOS'...|    ['RPG']|           ['Steam']|['Action-Adventur...|\n",
            "|  FINAL FANTASY XIII|2009-12-17 00:00:00|        3.4|['Xbox 360', 'Pla...|    ['RPG']|['Google Play', '...|['Action RPG', 'P...|\n",
            "|Gothic Playable T...|2019-12-14 00:00:00|       3.05|              ['PC']|    ['RPG']|           ['Steam']|                  []|\n",
            "|       Two Worlds II|2010-11-09 00:00:00|       3.01|['PC', 'macOS', '...|    ['RPG']|['Xbox 360 Store'...|['Cross-Platform ...|\n",
            "+--------------------+-------------------+-----------+--------------------+-----------+--------------------+--------------------+\n",
            "only showing top 20 rows\n",
            "\n"
          ],
          "name": "stdout"
        }
      ]
    },
    {
      "cell_type": "code",
      "metadata": {
        "id": "u7UVVCrSG1rf",
        "colab_type": "code",
        "colab": {
          "base_uri": "https://localhost:8080/",
          "height": 453
        },
        "outputId": "5a1e12ad-0c09-4da6-b4b7-2c3070316307"
      },
      "source": [
        "genre_strategi = data.filter(data.game_genres == \"['Strategy']\")\n",
        "genre_strategi.sort(genre_strategi.game_rating.desc()).show()"
      ],
      "execution_count": 127,
      "outputs": [
        {
          "output_type": "stream",
          "text": [
            "+--------------------+-------------------+-----------+--------------------+------------+--------------------+--------------------+\n",
            "|           Game_Name|      game_released|game_rating|       game_platform| game_genres|         game_stores|      game_tags_name|\n",
            "+--------------------+-------------------+-----------+--------------------+------------+--------------------+--------------------+\n",
            "|Sid Meier's Civil...|2010-09-21 00:00:00|       4.31|['Linux', 'macOS'...|['Strategy']|['App Store', 'St...|['4X', 'Steam Ach...|\n",
            "|    Worms Armageddon|1999-01-29 00:00:00|       4.28|['PC', 'Nintendo ...|['Strategy']|    ['GOG', 'Steam']|        \"[\"\"1990's\"\"|\n",
            "|Plants vs. Zombie...|2009-05-05 00:00:00|       4.27|['PS Vita', 'Andr...|['Strategy']|['Xbox 360 Store'...|['2D', 'Steam Ach...|\n",
            "|Age of Empires II HD|2013-04-09 00:00:00|       4.26|              ['PC']|['Strategy']|           ['Steam']|['2D', 'Captions ...|\n",
            "|Europa Universali...|2013-08-13 00:00:00|       4.25|['PC', 'Linux', '...|['Strategy']|           ['Steam']|['Cross-Platform ...|\n",
            "| XCOM: Enemy Unknown|2012-10-09 00:00:00|       4.19|['PC', 'macOS', '...|['Strategy']|['PlayStation Sto...|['Cross-Platform ...|\n",
            "|Sid Meier's Civil...|2005-10-25 00:00:00|       4.11|     ['PC', 'macOS']|['Strategy']|           ['Steam']|['4X', 'Includes ...|\n",
            "|Warhammer 40,000:...|2006-10-09 00:00:00|       4.11|              ['PC']|['Strategy']|           ['Steam']|['Steam Cloud', '...|\n",
            "| Total War: SHOGUN 2|2011-03-14 00:00:00|       4.03|['Linux', 'macOS'...|['Strategy']|           ['Steam']|['Steam Achieveme...|\n",
            "|Warhammer 40,000:...|2007-08-07 00:00:00|        4.0|              ['PC']|['Strategy']|           ['Steam']|['Steam Cloud', '...|\n",
            "|Warhammer 40,000:...|2008-03-04 00:00:00|       3.99|              ['PC']|['Strategy']|           ['Steam']|['Steam Cloud', '...|\n",
            "|Warhammer 40,000:...|2010-03-11 00:00:00|       3.94|['PC', 'Linux', '...|['Strategy']|           ['Steam']|['Steam Cloud', '...|\n",
            "|       Stronghold HD|2001-10-21 00:00:00|        3.9|     ['macOS', 'PC']|['Strategy']|    ['GOG', 'Steam']|['2D', 'Includes ...|\n",
            "|Rome: Total War -...|2007-08-28 00:00:00|       3.89|       ['PC', 'iOS']|['Strategy']|           ['Steam']|['4X', 'Atmospher...|\n",
            "|Civilization IV: ...|2006-07-26 00:00:00|       3.81|     ['PC', 'macOS']|['Strategy']|           ['Steam']|['4X', 'Historica...|\n",
            "|Warhammer 40,000:...|2011-02-28 00:00:00|        3.8|['PC', 'macOS', '...|['Strategy']|           ['Steam']|['Steam Achieveme...|\n",
            "|Civilization IV: ...|2007-06-24 00:00:00|        3.8|     ['PC', 'macOS']|['Strategy']|           ['Steam']|['4X', 'Education...|\n",
            "|   Empire: Total War|2009-03-03 00:00:00|       3.78|['PC', 'macOS', '...|['Strategy']|           ['Steam']|['America', 'Stea...|\n",
            "|STAR WARS Empire ...|2010-05-25 00:00:00|       3.75|              ['PC']|['Strategy']|    ['GOG', 'Steam']|['4X', 'Steam Clo...|\n",
            "|  X-COM: UFO Defense|1993-12-30 00:00:00|       3.68|              ['PC']|['Strategy']|    ['GOG', 'Steam']|        \"[\"\"1990's\"\"|\n",
            "+--------------------+-------------------+-----------+--------------------+------------+--------------------+--------------------+\n",
            "only showing top 20 rows\n",
            "\n"
          ],
          "name": "stdout"
        }
      ]
    },
    {
      "cell_type": "code",
      "metadata": {
        "id": "bORFDCPwHO_4",
        "colab_type": "code",
        "colab": {
          "base_uri": "https://localhost:8080/",
          "height": 201
        },
        "outputId": "b64f9aaf-917f-4f68-968d-90d54f6e889c"
      },
      "source": [
        "genre_sport = data.filter(data.game_genres == \"['Sports']\")\n",
        "genre_sport.sort(genre_sport.game_rating.desc()).show()"
      ],
      "execution_count": 128,
      "outputs": [
        {
          "output_type": "stream",
          "text": [
            "+-----------------+-------------------+-----------+--------------------+-----------+--------------------+--------------------+\n",
            "|        Game_Name|      game_released|game_rating|       game_platform|game_genres|         game_stores|      game_tags_name|\n",
            "+-----------------+-------------------+-----------+--------------------+-----------+--------------------+--------------------+\n",
            "|          FIFA 18|2017-09-26 00:00:00|       3.42|['PC', 'Nintendo ...| ['Sports']|['Nintendo Store'...|['Multiplayer', '...|\n",
            "|EA SPORTS FIFA 17|2016-09-27 00:00:00|       3.29|['PlayStation 4',...| ['Sports']|['Xbox 360 Store'...|['e-sports', 'Foo...|\n",
            "|          FIFA 15|2014-09-20 00:00:00|       3.29|['Xbox One', 'Nin...| ['Sports']|['Xbox 360 Store'...|['Football', 'Mul...|\n",
            "|EA SPORTS FIFA 16|2015-09-22 00:00:00|       3.28|['Xbox 360', 'Pla...| ['Sports']|['Xbox Store', 'X...|['Football', 'Mul...|\n",
            "|          FIFA 14|2013-09-23 00:00:00|       3.24|['Xbox One', 'iOS...| ['Sports']|['Xbox 360 Store'...|['Football', 'Mod...|\n",
            "|         NBA 2K16|2015-09-25 00:00:00|       2.92|['PC', 'Xbox One'...| ['Sports']|['Steam', 'Xbox S...|['Full controller...|\n",
            "+-----------------+-------------------+-----------+--------------------+-----------+--------------------+--------------------+\n",
            "\n"
          ],
          "name": "stdout"
        }
      ]
    },
    {
      "cell_type": "code",
      "metadata": {
        "id": "U2RdlDBRHuzM",
        "colab_type": "code",
        "colab": {
          "base_uri": "https://localhost:8080/",
          "height": 151
        },
        "outputId": "fdf07284-5513-49e4-e2d6-b18e0e21f848"
      },
      "source": [
        "genre_racing = data.filter(data.game_genres == \"['Racing']\")\n",
        "genre_racing.sort(genre_racing.game_rating.desc()).show()"
      ],
      "execution_count": 130,
      "outputs": [
        {
          "output_type": "stream",
          "text": [
            "+--------------+-------------------+-----------+--------------------+-----------+--------------------+--------------------+\n",
            "|     Game_Name|      game_released|game_rating|       game_platform|game_genres|         game_stores|      game_tags_name|\n",
            "+--------------+-------------------+-----------+--------------------+-----------+--------------------+--------------------+\n",
            "| Trials Fusion|2014-04-15 00:00:00|       3.51|['PC', 'Xbox One'...| ['Racing']|['Xbox Store', 'X...|['2.5D', '2D', 'P...|\n",
            "|Need for Speed|2015-11-03 00:00:00|       3.33|['PC', 'Xbox One'...| ['Racing']|['PlayStation Sto...|['Multiplayer', '...|\n",
            "|       RACE 07|2007-10-15 00:00:00|       2.18|              ['PC']| ['Racing']|           ['Steam']|['Driving', 'Mult...|\n",
            "+--------------+-------------------+-----------+--------------------+-----------+--------------------+--------------------+\n",
            "\n"
          ],
          "name": "stdout"
        }
      ]
    },
    {
      "cell_type": "markdown",
      "metadata": {
        "id": "-ormE4ueMSTa",
        "colab_type": "text"
      },
      "source": [
        "## **VISUALISASI DATA**"
      ]
    },
    {
      "cell_type": "markdown",
      "metadata": {
        "id": "PJz4DuUTOZij",
        "colab_type": "text"
      },
      "source": [
        "**Genre Action**"
      ]
    },
    {
      "cell_type": "code",
      "metadata": {
        "id": "012aPUcBIPpG",
        "colab_type": "code",
        "colab": {
          "base_uri": "https://localhost:8080/",
          "height": 350
        },
        "outputId": "e10fdef0-e6f6-4957-bc32-c501fe73772d"
      },
      "source": [
        "fig, axes = plt.subplots()\n",
        "fig.set_size_inches(20, 5)\n",
        "\n",
        "for i in range(5):\n",
        "  plt.bar(genre_action.collect()[i][0], genre_action.collect()[i][2])\n",
        "\n",
        "plt.xlabel('Nama Game')\n",
        "plt.ylabel('Rating')"
      ],
      "execution_count": 139,
      "outputs": [
        {
          "output_type": "execute_result",
          "data": {
            "text/plain": [
              "Text(0, 0.5, 'Rating')"
            ]
          },
          "metadata": {
            "tags": []
          },
          "execution_count": 139
        },
        {
          "output_type": "display_data",
          "data": {
            "image/png": "[encoded data removed]",
            "text/plain": [
              "<Figure size 1440x360 with 1 Axes>"
            ]
          },
          "metadata": {
            "tags": [],
            "needs_background": "light"
          }
        }
      ]
    },
    {
      "cell_type": "markdown",
      "metadata": {
        "id": "-qBKR1jsP49c",
        "colab_type": "text"
      },
      "source": [
        "### **Genre Adventure**"
      ]
    },
    {
      "cell_type": "code",
      "metadata": {
        "id": "83hgmRCZPM9D",
        "colab_type": "code",
        "colab": {
          "base_uri": "https://localhost:8080/",
          "height": 350
        },
        "outputId": "cacc06d1-1a43-4a26-c5d6-dc6d8ce5dad5"
      },
      "source": [
        "fig, axes = plt.subplots()\n",
        "fig.set_size_inches(20, 5)\n",
        "\n",
        "for i in range(5):\n",
        "  plt.bar(genre_Advantur.collect()[i][0], genre_Advantur.collect()[i][2])\n",
        "\n",
        "plt.xlabel('Nama Game')\n",
        "plt.ylabel('Rating')"
      ],
      "execution_count": 140,
      "outputs": [
        {
          "output_type": "execute_result",
          "data": {
            "text/plain": [
              "Text(0, 0.5, 'Rating')"
            ]
          },
          "metadata": {
            "tags": []
          },
          "execution_count": 140
        },
        {
          "output_type": "display_data",
          "data": {
            "image/png": "[encoded data removed]",
            "text/plain": [
              "<Figure size 1440x360 with 1 Axes>"
            ]
          },
          "metadata": {
            "tags": [],
            "needs_background": "light"
          }
        }
      ]
    },
    {
      "cell_type": "markdown",
      "metadata": {
        "id": "WDltusNfQJFL",
        "colab_type": "text"
      },
      "source": [
        "### **Genre Sports**"
      ]
    },
    {
      "cell_type": "code",
      "metadata": {
        "id": "ku6L-NwdQCtb",
        "colab_type": "code",
        "colab": {
          "base_uri": "https://localhost:8080/",
          "height": 350
        },
        "outputId": "716b648b-7a0e-4c99-df72-52d683aba823"
      },
      "source": [
        "fig, axes = plt.subplots()\n",
        "fig.set_size_inches(20, 5)\n",
        "\n",
        "for i in range(5):\n",
        "  plt.bar(genre_sport.collect()[i][0], genre_sport.collect()[i][2])\n",
        "\n",
        "plt.xlabel('Nama Game')\n",
        "plt.ylabel('Rating')"
      ],
      "execution_count": 141,
      "outputs": [
        {
          "output_type": "execute_result",
          "data": {
            "text/plain": [
              "Text(0, 0.5, 'Rating')"
            ]
          },
          "metadata": {
            "tags": []
          },
          "execution_count": 141
        },
        {
          "output_type": "display_data",
          "data": {
            "image/png": "[encoded data removed]",
            "text/plain": [
              "<Figure size 1440x360 with 1 Axes>"
            ]
          },
          "metadata": {
            "tags": [],
            "needs_background": "light"
          }
        }
      ]
    },
    {
      "cell_type": "markdown",
      "metadata": {
        "id": "CQAgxWyGQXr5",
        "colab_type": "text"
      },
      "source": [
        "### **Genre Racing**"
      ]
    },
    {
      "cell_type": "code",
      "metadata": {
        "id": "2f2W9cstQU3L",
        "colab_type": "code",
        "colab": {
          "base_uri": "https://localhost:8080/",
          "height": 350
        },
        "outputId": "d53c34de-73c8-4e6d-9c80-82bf44889547"
      },
      "source": [
        "fig, axes = plt.subplots()\n",
        "fig.set_size_inches(20, 5)\n",
        "\n",
        "for i in range(3):\n",
        "  plt.bar(genre_racing.collect()[i][0], genre_racing.collect()[i][2])\n",
        "\n",
        "plt.xlabel('Nama Game')\n",
        "plt.ylabel('Rating')"
      ],
      "execution_count": 143,
      "outputs": [
        {
          "output_type": "execute_result",
          "data": {
            "text/plain": [
              "Text(0, 0.5, 'Rating')"
            ]
          },
          "metadata": {
            "tags": []
          },
          "execution_count": 143
        },
        {
          "output_type": "display_data",
          "data": {
            "image/png": "[encoded data removed]",
            "text/plain": [
              "<Figure size 1440x360 with 1 Axes>"
            ]
          },
          "metadata": {
            "tags": [],
            "needs_background": "light"
          }
        }
      ]
    },
    {
      "cell_type": "markdown",
      "metadata": {
        "id": "oTkLYI8rS3ww",
        "colab_type": "text"
      },
      "source": [
        "### **Genre Strategi**"
      ]
    },
    {
      "cell_type": "code",
      "metadata": {
        "id": "vJKfyfFZQew2",
        "colab_type": "code",
        "colab": {
          "base_uri": "https://localhost:8080/",
          "height": 350
        },
        "outputId": "d8365d07-27ed-4b2d-fabe-52117e35ba34"
      },
      "source": [
        "fig, axes = plt.subplots()\n",
        "fig.set_size_inches(20, 5)\n",
        "\n",
        "for i in range(5):\n",
        "  plt.bar(genre_strategi.collect()[i][0], genre_strategi.collect()[i][2])\n",
        "\n",
        "plt.xlabel('Nama Game')\n",
        "plt.ylabel('Rating')"
      ],
      "execution_count": 144,
      "outputs": [
        {
          "output_type": "execute_result",
          "data": {
            "text/plain": [
              "Text(0, 0.5, 'Rating')"
            ]
          },
          "metadata": {
            "tags": []
          },
          "execution_count": 144
        },
        {
          "output_type": "display_data",
          "data": {
            "image/png": "[encoded data removed]",
            "text/plain": [
              "<Figure size 1440x360 with 1 Axes>"
            ]
          },
          "metadata": {
            "tags": [],
            "needs_background": "light"
          }
        }
      ]
    },
    {
      "cell_type": "markdown",
      "metadata": {
        "id": "ouy6n2W9S8iY",
        "colab_type": "text"
      },
      "source": [
        "### **Genre RPG**"
      ]
    },
    {
      "cell_type": "code",
      "metadata": {
        "id": "MLcpb8_LQkuC",
        "colab_type": "code",
        "colab": {
          "base_uri": "https://localhost:8080/",
          "height": 350
        },
        "outputId": "5ac80a12-9571-4cc6-f0bb-77292c2d89ee"
      },
      "source": [
        "fig, axes = plt.subplots()\n",
        "fig.set_size_inches(20, 5)\n",
        "\n",
        "for i in range(5):\n",
        "  plt.bar(genre_rpg.collect()[i][0], genre_rpg.collect()[i][2])\n",
        "\n",
        "plt.xlabel('Nama Game')\n",
        "plt.ylabel('Rating')"
      ],
      "execution_count": 145,
      "outputs": [
        {
          "output_type": "execute_result",
          "data": {
            "text/plain": [
              "Text(0, 0.5, 'Rating')"
            ]
          },
          "metadata": {
            "tags": []
          },
          "execution_count": 145
        },
        {
          "output_type": "display_data",
          "data": {
            "image/png": "[encoded data removed]",
            "text/plain": [
              "<Figure size 1440x360 with 1 Axes>"
            ]
          },
          "metadata": {
            "tags": [],
            "needs_background": "light"
          }
        }
      ]
    },
    {
      "cell_type": "code",
      "metadata": {
        "id": "eb0AQ8y4QrAi",
        "colab_type": "code",
        "colab": {}
      },
      "source": [
        ""
      ],
      "execution_count": null,
      "outputs": []
    }
  ]
}